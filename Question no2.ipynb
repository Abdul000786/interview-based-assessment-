{
 "cells": [
  {
   "cell_type": "code",
   "execution_count": 1,
   "id": "57f373f4",
   "metadata": {},
   "outputs": [
    {
     "name": "stdout",
     "output_type": "stream",
     "text": [
      "YES\n",
      "YES\n",
      "YES\n",
      "NO\n"
     ]
    }
   ],
   "source": [
    "#question 2\n",
    "from collections import Counter\n",
    "\n",
    "def is_valid_string(s):\n",
    "    # Count the frequency of each character in the string\n",
    "    char_frequency = Counter(s)\n",
    "\n",
    "    # Count the frequency of each frequency value\n",
    "    frequency_count = Counter(char_frequency.values())\n",
    "\n",
    "    # If there is only one frequency count, the string is valid\n",
    "    if len(frequency_count) == 1:\n",
    "        return \"YES\"\n",
    "\n",
    "    # If there are more than two frequency counts, the string is not valid\n",
    "    if len(frequency_count) > 2:\n",
    "        return \"NO\"\n",
    "\n",
    "    # If there are exactly two frequency counts\n",
    "    min_freq, max_freq = frequency_count.keys()\n",
    "    if frequency_count[min_freq] == 1 and min_freq == 1:\n",
    "        return \"YES\"\n",
    "    if frequency_count[max_freq] == 1 and max_freq - min_freq == 1:\n",
    "        return \"YES\"\n",
    "\n",
    "    return \"NO\"\n",
    "\n",
    "# Test case 1\n",
    "s = \"abc\"\n",
    "print(is_valid_string(s))  \n",
    "\n",
    "# Test case 2\n",
    "s = \"abcc\"\n",
    "print(is_valid_string(s))  \n",
    "\n",
    "# Test case 3\n",
    "s = \"aabbcc\"\n",
    "print(is_valid_string(s))  \n",
    "\n",
    "# Test case 4\n",
    "s = \"aabbc\"\n",
    "print(is_valid_string(s))  \n"
   ]
  },
  {
   "cell_type": "code",
   "execution_count": null,
   "id": "f09a8831",
   "metadata": {},
   "outputs": [],
   "source": []
  }
 ],
 "metadata": {
  "kernelspec": {
   "display_name": "Python 3 (ipykernel)",
   "language": "python",
   "name": "python3"
  },
  "language_info": {
   "codemirror_mode": {
    "name": "ipython",
    "version": 3
   },
   "file_extension": ".py",
   "mimetype": "text/x-python",
   "name": "python",
   "nbconvert_exporter": "python",
   "pygments_lexer": "ipython3",
   "version": "3.9.13"
  }
 },
 "nbformat": 4,
 "nbformat_minor": 5
}
