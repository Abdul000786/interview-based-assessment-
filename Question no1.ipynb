{
 "cells": [
  {
   "cell_type": "code",
   "execution_count": null,
   "id": "57f373f4",
   "metadata": {},
   "outputs": [
    {
     "name": "stdout",
     "output_type": "stream",
     "text": [
      "5\n",
      "3\n",
      "7\n"
     ]
    }
   ],
   "source": [
    "#question 1\n",
    "def find_highest_frequency_word_length(string):\n",
    "    # Split the string into individual words\n",
    "    words = string.split()\n",
    "\n",
    "    # Count the frequency of each word\n",
    "    word_frequency = {}\n",
    "    for word in words:\n",
    "        if word in word_frequency:\n",
    "            word_frequency[word] += 1\n",
    "        else:\n",
    "            word_frequency[word] = 1\n",
    "\n",
    "    # Find the highest frequency\n",
    "    highest_frequency = max(word_frequency.values())\n",
    "\n",
    "    # Find the length of the highest-frequency word\n",
    "    highest_frequency_word = max(word_frequency, key=word_frequency.get)\n",
    "    highest_frequency_word_length = len(highest_frequency_word)\n",
    "\n",
    "    return highest_frequency_word_length\n",
    "\n",
    "# Test case 1\n",
    "string = \"write write write all the number from from from 1 to 100\"\n",
    "print(find_highest_frequency_word_length(string))  \n",
    "\n",
    "# Test case 2\n",
    "string = \"the quick brown fox jumps over the lazy dog\"\n",
    "print(find_highest_frequency_word_length(string))  \n",
    "\n",
    "# Test case 3\n",
    "string = \"i am abdul and student of fsds batch 2.0 ineuron ineuron ineuron\"\n",
    "print(find_highest_frequency_word_length(string))  \n"
   ]
  },
  {
   "cell_type": "code",
   "execution_count": null,
   "id": "f09a8831",
   "metadata": {},
   "outputs": [],
   "source": []
  }
 ],
 "metadata": {
  "kernelspec": {
   "display_name": "Python 3.10.10 64-bit (microsoft store)",
   "language": "python",
   "name": "python3"
  },
  "language_info": {
   "codemirror_mode": {
    "name": "ipython",
    "version": 3
   },
   "file_extension": ".py",
   "mimetype": "text/x-python",
   "name": "python",
   "nbconvert_exporter": "python",
   "pygments_lexer": "ipython3",
   "version": "3.10.10"
  },
  "vscode": {
   "interpreter": {
    "hash": "5c1f741a4f83aa020b4b2a4d7353a073a4e5e4a855a3258a20da40294ddbf005"
   }
  }
 },
 "nbformat": 4,
 "nbformat_minor": 5
}
