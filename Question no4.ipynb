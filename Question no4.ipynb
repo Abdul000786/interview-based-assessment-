{
 "cells": [
  {
   "cell_type": "code",
   "execution_count": 2,
   "id": "57f373f4",
   "metadata": {},
   "outputs": [
    {
     "name": "stdout",
     "output_type": "stream",
     "text": [
      "Data successfully converted and exported to 'earth_meteorites.csv'\n"
     ]
    }
   ],
   "source": [
    "#question 4\n",
    "import requests\n",
    "import pandas as pd\n",
    "\n",
    "def download_and_convert_data(url):\n",
    "    # Download the data from the provided link\n",
    "    response = requests.get(url)\n",
    "\n",
    "    if response.status_code == 200:\n",
    "        # Read the JSON data\n",
    "        data = response.json()\n",
    "\n",
    "        # Create a list to store the structured data\n",
    "        structured_data = []\n",
    "\n",
    "        # Extract the required attributes and structure the data\n",
    "        for meteorite in data:\n",
    "            structured_data.append({\n",
    "                'Name of Earth Meteorite': meteorite.get('name'),\n",
    "                'id': meteorite.get('id'),\n",
    "                'nametype': meteorite.get('nametype'),\n",
    "                'recclass': meteorite.get('recclass'),\n",
    "                'mass': float(meteorite.get('mass (g)', 0)),  # Use 0 as default value for missing key\n",
    "                'year': pd.to_datetime(meteorite.get('year'), errors='coerce'),\n",
    "                'reclat': float(meteorite.get('reclat')) if meteorite.get('reclat') is not None else 0.0,  # Use 0.0 as default value\n",
    "                'reclong': float(meteorite.get('reclong')) if meteorite.get('reclong') is not None else 0.0,  # Use 0.0 as default value\n",
    "                'point coordinates': [\n",
    "                    float(meteorite.get('reclong')) if meteorite.get('reclong') is not None else 0.0,\n",
    "                    float(meteorite.get('reclat')) if meteorite.get('reclat') is not None else 0.0\n",
    "                ]\n",
    "            })\n",
    "\n",
    "        # Create a data frame from the structured data\n",
    "        df = pd.DataFrame(structured_data)\n",
    "\n",
    "        # Export the data frame to a CSV file\n",
    "        df.to_csv('earth_meteorites.csv', index=False)\n",
    "        print(\"Data successfully converted and exported to 'earth_meteorites.csv'\")\n",
    "    else:\n",
    "        print(\"Failed to download the data\")\n",
    "\n",
    "# Provide the URL of the data source\n",
    "url = \"https://data.nasa.gov/resource/y77d-th95.json\"\n",
    "\n",
    "# Call the function to download, convert, and export the data\n",
    "download_and_convert_data(url)\n"
   ]
  },
  {
   "cell_type": "code",
   "execution_count": null,
   "id": "f09a8831",
   "metadata": {},
   "outputs": [],
   "source": []
  }
 ],
 "metadata": {
  "kernelspec": {
   "display_name": "Python 3 (ipykernel)",
   "language": "python",
   "name": "python3"
  },
  "language_info": {
   "codemirror_mode": {
    "name": "ipython",
    "version": 3
   },
   "file_extension": ".py",
   "mimetype": "text/x-python",
   "name": "python",
   "nbconvert_exporter": "python",
   "pygments_lexer": "ipython3",
   "version": "3.9.13"
  }
 },
 "nbformat": 4,
 "nbformat_minor": 5
}
