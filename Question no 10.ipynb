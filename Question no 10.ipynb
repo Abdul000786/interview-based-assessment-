{
 "cells": [
  {
   "cell_type": "code",
   "execution_count": 2,
   "id": "30788f85",
   "metadata": {},
   "outputs": [
    {
     "name": "stdout",
     "output_type": "stream",
     "text": [
      "defaultdict(<class 'int'>, {'Nouns': 2, 'Verbs': 1})\n",
      "defaultdict(<class 'int'>, {'Adjectives': 2, 'Nouns': 5, 'Verbs': 3})\n",
      "defaultdict(<class 'int'>, {'Pronouns': 1, 'Verbs': 3, 'Nouns': 4, 'Adjectives': 1})\n"
     ]
    }
   ],
   "source": [
    "#question 10\n",
    "import nltk\n",
    "from nltk.tokenize import word_tokenize\n",
    "from nltk.tag import pos_tag\n",
    "from collections import defaultdict\n",
    "\n",
    "def count_pos_tags(text):\n",
    "    # Tokenize the text into words\n",
    "    tokens = word_tokenize(text)\n",
    "    \n",
    "    # Perform part-of-speech tagging on the tokens\n",
    "    tagged_tokens = pos_tag(tokens)\n",
    "    \n",
    "    # Initialize counts dictionary\n",
    "    counts = defaultdict(int)\n",
    "    \n",
    "    # Count the number of verbs, nouns, pronouns, and adjectives\n",
    "    for token, tag in tagged_tokens:\n",
    "        if tag.startswith('V'):  # Verb\n",
    "            counts['Verbs'] += 1\n",
    "        elif tag.startswith('N'):  # Noun\n",
    "            counts['Nouns'] += 1\n",
    "        elif tag == 'PRP' or tag == 'PRP$':  # Pronoun\n",
    "            counts['Pronouns'] += 1\n",
    "        elif tag.startswith('J'):  # Adjective\n",
    "            counts['Adjectives'] += 1\n",
    "    \n",
    "    return counts\n",
    "\n",
    "# Test the function with a given phrase or paragraph\n",
    "text = \"The cat sat on the mat.\"\n",
    "result = count_pos_tags(text)\n",
    "print(result)\n",
    "\n",
    "# Additional test cases\n",
    "\n",
    "# Test case 1: A longer paragraph\n",
    "text2 = \"The quick brown fox jumps over the lazy dog. The dog barked loudly and chased the fox away.\"\n",
    "result2 = count_pos_tags(text2)\n",
    "print(result2)\n",
    "\n",
    "# Test case 2: A phrase with multiple occurrences of the same part-of-speech tag\n",
    "text3 = \"I like to eat pizza and pasta. Pizza and pasta are delicious.\"\n",
    "result3 = count_pos_tags(text3)\n",
    "print(result3)\n"
   ]
  },
  {
   "cell_type": "code",
   "execution_count": null,
   "id": "647095eb",
   "metadata": {},
   "outputs": [],
   "source": []
  }
 ],
 "metadata": {
  "kernelspec": {
   "display_name": "Python 3 (ipykernel)",
   "language": "python",
   "name": "python3"
  },
  "language_info": {
   "codemirror_mode": {
    "name": "ipython",
    "version": 3
   },
   "file_extension": ".py",
   "mimetype": "text/x-python",
   "name": "python",
   "nbconvert_exporter": "python",
   "pygments_lexer": "ipython3",
   "version": "3.9.13"
  }
 },
 "nbformat": 4,
 "nbformat_minor": 5
}
